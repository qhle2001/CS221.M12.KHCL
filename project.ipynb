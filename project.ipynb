{
  "cells": [
    {
      "cell_type": "markdown",
      "id": "e6896dc1",
      "metadata": {
        "id": "e6896dc1"
      },
      "source": [
        "# Import thư viện"
      ]
    },
    {
      "cell_type": "code",
      "source": [
        "!pip install underthesea"
      ],
      "metadata": {
        "colab": {
          "base_uri": "https://localhost:8080/"
        },
        "id": "8ZLtSAb1EBCj",
        "outputId": "bda38141-a649-4ca9-b78f-6c0b44bd8d9e"
      },
      "id": "8ZLtSAb1EBCj",
      "execution_count": null,
      "outputs": [
        {
          "output_type": "stream",
          "name": "stdout",
          "text": [
            "Requirement already satisfied: underthesea in /usr/local/lib/python3.7/dist-packages (1.3.4)\n",
            "Requirement already satisfied: Click>=6.0 in /usr/local/lib/python3.7/dist-packages (from underthesea) (7.1.2)\n",
            "Requirement already satisfied: python-crfsuite>=0.9.6 in /usr/local/lib/python3.7/dist-packages (from underthesea) (0.9.7)\n",
            "Requirement already satisfied: underthesea-core==0.0.4_alpha.10 in /usr/local/lib/python3.7/dist-packages (from underthesea) (0.0.4a10)\n",
            "Requirement already satisfied: requests in /usr/local/lib/python3.7/dist-packages (from underthesea) (2.23.0)\n",
            "Requirement already satisfied: tqdm in /usr/local/lib/python3.7/dist-packages (from underthesea) (4.62.3)\n",
            "Requirement already satisfied: joblib in /usr/local/lib/python3.7/dist-packages (from underthesea) (1.1.0)\n",
            "Requirement already satisfied: scikit-learn in /usr/local/lib/python3.7/dist-packages (from underthesea) (1.0.2)\n",
            "Requirement already satisfied: PyYAML in /usr/local/lib/python3.7/dist-packages (from underthesea) (3.13)\n",
            "Requirement already satisfied: nltk in /usr/local/lib/python3.7/dist-packages (from underthesea) (3.2.5)\n",
            "Requirement already satisfied: unidecode in /usr/local/lib/python3.7/dist-packages (from underthesea) (1.3.2)\n",
            "Requirement already satisfied: six in /usr/local/lib/python3.7/dist-packages (from nltk->underthesea) (1.15.0)\n",
            "Requirement already satisfied: urllib3!=1.25.0,!=1.25.1,<1.26,>=1.21.1 in /usr/local/lib/python3.7/dist-packages (from requests->underthesea) (1.24.3)\n",
            "Requirement already satisfied: certifi>=2017.4.17 in /usr/local/lib/python3.7/dist-packages (from requests->underthesea) (2021.10.8)\n",
            "Requirement already satisfied: idna<3,>=2.5 in /usr/local/lib/python3.7/dist-packages (from requests->underthesea) (2.10)\n",
            "Requirement already satisfied: chardet<4,>=3.0.2 in /usr/local/lib/python3.7/dist-packages (from requests->underthesea) (3.0.4)\n",
            "Requirement already satisfied: numpy>=1.14.6 in /usr/local/lib/python3.7/dist-packages (from scikit-learn->underthesea) (1.19.5)\n",
            "Requirement already satisfied: threadpoolctl>=2.0.0 in /usr/local/lib/python3.7/dist-packages (from scikit-learn->underthesea) (3.0.0)\n",
            "Requirement already satisfied: scipy>=1.1.0 in /usr/local/lib/python3.7/dist-packages (from scikit-learn->underthesea) (1.4.1)\n"
          ]
        }
      ]
    },
    {
      "cell_type": "code",
      "source": [
        "!pip install pyvi"
      ],
      "metadata": {
        "colab": {
          "base_uri": "https://localhost:8080/"
        },
        "id": "-Pg-Qhk1EDx5",
        "outputId": "324e69a2-b46c-4596-a704-cbef5129af80"
      },
      "id": "-Pg-Qhk1EDx5",
      "execution_count": null,
      "outputs": [
        {
          "output_type": "stream",
          "name": "stdout",
          "text": [
            "Requirement already satisfied: pyvi in /usr/local/lib/python3.7/dist-packages (0.1.1)\n",
            "Requirement already satisfied: sklearn-crfsuite in /usr/local/lib/python3.7/dist-packages (from pyvi) (0.3.6)\n",
            "Requirement already satisfied: scikit-learn in /usr/local/lib/python3.7/dist-packages (from pyvi) (1.0.2)\n",
            "Requirement already satisfied: scipy>=1.1.0 in /usr/local/lib/python3.7/dist-packages (from scikit-learn->pyvi) (1.4.1)\n",
            "Requirement already satisfied: joblib>=0.11 in /usr/local/lib/python3.7/dist-packages (from scikit-learn->pyvi) (1.1.0)\n",
            "Requirement already satisfied: numpy>=1.14.6 in /usr/local/lib/python3.7/dist-packages (from scikit-learn->pyvi) (1.19.5)\n",
            "Requirement already satisfied: threadpoolctl>=2.0.0 in /usr/local/lib/python3.7/dist-packages (from scikit-learn->pyvi) (3.0.0)\n",
            "Requirement already satisfied: tqdm>=2.0 in /usr/local/lib/python3.7/dist-packages (from sklearn-crfsuite->pyvi) (4.62.3)\n",
            "Requirement already satisfied: python-crfsuite>=0.8.3 in /usr/local/lib/python3.7/dist-packages (from sklearn-crfsuite->pyvi) (0.9.7)\n",
            "Requirement already satisfied: six in /usr/local/lib/python3.7/dist-packages (from sklearn-crfsuite->pyvi) (1.15.0)\n",
            "Requirement already satisfied: tabulate in /usr/local/lib/python3.7/dist-packages (from sklearn-crfsuite->pyvi) (0.8.9)\n"
          ]
        }
      ]
    },
    {
      "cell_type": "code",
      "execution_count": null,
      "id": "1d16dae4",
      "metadata": {
        "id": "1d16dae4"
      },
      "outputs": [],
      "source": [
        "import pandas as pd\n",
        "from nltk.tag import hmm\n",
        "from nltk.probability import LaplaceProbDist\n",
        "import pandas as pd\n",
        "from sklearn.metrics import classification_report\n",
        "from pyvi import ViTokenizer\n",
        "from underthesea import word_tokenize\n",
        "import warnings\n",
        "warnings.filterwarnings(\"ignore\")"
      ]
    },
    {
      "cell_type": "markdown",
      "id": "aa34f789",
      "metadata": {
        "id": "aa34f789"
      },
      "source": [
        "# Import dữ liệu"
      ]
    },
    {
      "cell_type": "code",
      "execution_count": null,
      "id": "257565c4",
      "metadata": {
        "id": "257565c4"
      },
      "outputs": [],
      "source": [
        "df = pd.read_csv('dataset.csv', header = None)\n",
        "data = df[0].tolist()"
      ]
    },
    {
      "cell_type": "code",
      "execution_count": null,
      "id": "d607341e",
      "metadata": {
        "colab": {
          "base_uri": "https://localhost:8080/"
        },
        "id": "d607341e",
        "outputId": "a10a6600-85ab-4b26-9553-8f29fde32989"
      },
      "outputs": [
        {
          "output_type": "stream",
          "name": "stdout",
          "text": [
            "Một số câu trong tách từ thủ công: \n",
            "\n",
            "đây là bài_tập mới\n",
            "đây là một trong những bài_tập khó\n",
            "nó đang làm bài_tập\n"
          ]
        }
      ],
      "source": [
        "# Dữ liệu tách từ thủ công làm kết quả đối chiếu\n",
        "data_tokenized_manual = df[1].tolist()\n",
        "print(\"Một số câu trong tách từ thủ công: \\n\")\n",
        "for sentence in data_tokenized_manual[0:3]:\n",
        "    print(sentence)"
      ]
    },
    {
      "cell_type": "markdown",
      "id": "38af7e26",
      "metadata": {
        "id": "38af7e26"
      },
      "source": [
        "# Các hàm viết sẵn"
      ]
    },
    {
      "cell_type": "markdown",
      "id": "5258eb7c",
      "metadata": {
        "id": "5258eb7c"
      },
      "source": [
        "### Hàm đếm số lượng từ tách được"
      ]
    },
    {
      "cell_type": "code",
      "execution_count": null,
      "id": "6bd7c544",
      "metadata": {
        "id": "6bd7c544"
      },
      "outputs": [],
      "source": [
        "def count_words(data):\n",
        "    count = 0\n",
        "    for sentence_index in range(0, len(data)):\n",
        "        for word_index in range(0, len(data[sentence_index])):\n",
        "            if data[sentence_index][word_index] == ' ' and data[sentence_index][word_index + 1] != ' ':\n",
        "                count += 1\n",
        "        count += 1\n",
        "    return count"
      ]
    },
    {
      "cell_type": "markdown",
      "id": "59418c29",
      "metadata": {
        "id": "59418c29"
      },
      "source": [
        "### Hàm đếm số lượng từ ghép"
      ]
    },
    {
      "cell_type": "code",
      "execution_count": null,
      "id": "05692560",
      "metadata": {
        "id": "05692560"
      },
      "outputs": [],
      "source": [
        "def compounds(data):\n",
        "    count = 0\n",
        "    for sentence_index in range(0, len(data)):\n",
        "        for word_index in range(0, len(data[sentence_index])):\n",
        "            if '_' in data[sentence_index][word_index]:\n",
        "                count += 1\n",
        "    return count"
      ]
    },
    {
      "cell_type": "markdown",
      "id": "afdd2ecd",
      "metadata": {
        "id": "afdd2ecd"
      },
      "source": [
        "### Hàm chuyển các câu được tách từ vào list"
      ]
    },
    {
      "cell_type": "code",
      "execution_count": null,
      "id": "9cb744b2",
      "metadata": {
        "id": "9cb744b2"
      },
      "outputs": [],
      "source": [
        "def list_words(data):\n",
        "    word = []\n",
        "    list_data = []\n",
        "    for sentence_index in range(0, len(data)):\n",
        "        a = ''\n",
        "        for word_index in range(0, len(data[sentence_index])):\n",
        "            a = a + data[sentence_index][word_index]\n",
        "            if data[sentence_index][word_index] == ' ' and data[sentence_index][word_index + 1] != ' ':\n",
        "                word.append(a)\n",
        "                a = ''\n",
        "            if word_index == len(data[sentence_index]) - 1:\n",
        "                word.append(a)\n",
        "        list_data.append(word)\n",
        "        word = []\n",
        "    return list_data"
      ]
    },
    {
      "cell_type": "markdown",
      "id": "41a73187",
      "metadata": {
        "id": "41a73187"
      },
      "source": [
        "### Hàm thống kê tần số xuất hiện của từ ghép"
      ]
    },
    {
      "cell_type": "code",
      "execution_count": null,
      "id": "9393357e",
      "metadata": {
        "id": "9393357e"
      },
      "outputs": [],
      "source": [
        "def array_compounds(data):\n",
        "    array_manual_compounds = []\n",
        "    array = []\n",
        "    for sentence_index in range(0, len(data)):\n",
        "        for word_index in range(0, len(data[sentence_index])):\n",
        "            if '_' in data[sentence_index][word_index]:\n",
        "                array_manual_compounds.append(data[sentence_index][word_index].strip())\n",
        "    my_dict = {i:array_manual_compounds.count(i) for i in array_manual_compounds}\n",
        "    return array_manual_compounds, my_dict"
      ]
    },
    {
      "cell_type": "markdown",
      "id": "4c19273c",
      "metadata": {
        "id": "4c19273c"
      },
      "source": [
        "### Hàm đếm số lượng từ tách đúng"
      ]
    },
    {
      "cell_type": "code",
      "execution_count": null,
      "id": "7b85ef2d",
      "metadata": {
        "id": "7b85ef2d"
      },
      "outputs": [],
      "source": [
        "def count_correct_words(count_pred, pred_compounds, array_pred_compounds, count_manual, manual_compounds, array_manual_compounds):\n",
        "  count_words_in_manual = 0\n",
        "  count_words_not_in_manual = 0\n",
        "  for sentence_index in range(0, len(array_pred_compounds)):\n",
        "    if array_pred_compounds[sentence_index] in array_manual_compounds:\n",
        "      count_words_in_manual += 1\n",
        "    if array_pred_compounds[sentence_index] not in array_manual_compounds:\n",
        "      count_words_not_in_manual += 1\n",
        "  return (count_manual - (manual_compounds - count_words_in_manual) - count_words_not_in_manual * 2)"
      ]
    },
    {
      "cell_type": "markdown",
      "id": "76726759",
      "metadata": {
        "id": "76726759"
      },
      "source": [
        "### Hàm tính các chỉ số đánh giá của tách từ"
      ]
    },
    {
      "cell_type": "code",
      "execution_count": null,
      "id": "5fd29a3b",
      "metadata": {
        "id": "5fd29a3b"
      },
      "outputs": [],
      "source": [
        "def evaluation_params(pred, source, n_grams=3):\n",
        "    pred_words = pred.split()\n",
        "    source_words = source.split()\n",
        "    \n",
        "    tp, fp, fn= 0, 0, 0\n",
        "    \n",
        "    index = 0\n",
        "    while index < len(pred_words):\n",
        "        if pred_words[index] not in source_words[index:(index + n_grams)]: \n",
        "            if '_' in pred_words[index]: fp += 1\n",
        "            del pred_words[index]\n",
        "        else: index += 1\n",
        "    \n",
        "    index = 0\n",
        "    while index < len(source_words):\n",
        "        if source_words[index] not in pred_words[index:(index + n_grams)]:\n",
        "            if '_' in source_words[index]: fn += 1\n",
        "            del source_words[index]\n",
        "        else: index += 1\n",
        "    \n",
        "    if len(pred_words) < len(source_words): words = pred_words\n",
        "    else: words = source_words\n",
        "    \n",
        "    for index in range (len(words)):\n",
        "        if pred_words[index] == source_words[index]:\n",
        "            if '_' in pred_words[index]: tp += 1 \n",
        "                    \n",
        "    return tp, fp, fn"
      ]
    },
    {
      "cell_type": "markdown",
      "id": "fbbd66d5",
      "metadata": {
        "id": "fbbd66d5"
      },
      "source": [
        "### Hàm đánh giá tách từ"
      ]
    },
    {
      "cell_type": "code",
      "execution_count": null,
      "id": "0c2debf5",
      "metadata": {
        "id": "0c2debf5"
      },
      "outputs": [],
      "source": [
        "def tokenize_evaluation(pred, source, n_grams=3):\n",
        "    total_words = 0\n",
        "    pred_tp = 0\n",
        "    pred_fp = 0\n",
        "    pred_fn = 0\n",
        "    \n",
        "    pred_compounds, source_compounds = compounds(pred), compounds(source)\n",
        "    count_pred, count_source = count_words(pred), count_words(source)\n",
        "    list_pred, list_source = list_words(pred), list_words(source)\n",
        "    array_pred_compounds, _= array_compounds(list_pred)\n",
        "    array_source_compounds, _= array_compounds(list_source)\n",
        "    \n",
        "    \n",
        "    total_true = count_correct_words(count_pred, pred_compounds, array_pred_compounds, count_source, source_compounds, array_source_compounds)\n",
        "    \n",
        "    \n",
        "    for pred_sentence, source_sentence in zip(pred, source):\n",
        "        total_words += len(source_sentence.split())\n",
        "        if pred_sentence != source_sentence:\n",
        "            tp, fp, fn = evaluation_params(pred_sentence, source_sentence, n_grams)\n",
        "            pred_tp += tp\n",
        "            pred_fp += fp\n",
        "            pred_fn += fn\n",
        "        else:\n",
        "            for word in source_sentence.split():\n",
        "                 if '_' in word: pred_tp += 1\n",
        "    \n",
        "    precision = pred_tp / (pred_tp + pred_fp)\n",
        "    recall = pred_tp / (pred_tp + pred_fn)\n",
        "    F1 = 2 * (precision * recall) / (precision + recall)\n",
        "    \n",
        "    return {\n",
        "        'Accuracy': total_true / total_words, \n",
        "        'Precision': precision,\n",
        "        'Recall': recall,\n",
        "        'True Positive': pred_tp, \n",
        "        'False Positive': pred_fp,\n",
        "        'False Negative': pred_fn,\n",
        "        'F1-score': F1,\n",
        "        'Tổng từ tách đúng': total_true\n",
        "    }"
      ]
    },
    {
      "cell_type": "markdown",
      "id": "ac8080d8",
      "metadata": {
        "id": "ac8080d8"
      },
      "source": [
        "### Hàm gán nhãn bằng HMM"
      ]
    },
    {
      "cell_type": "code",
      "execution_count": null,
      "id": "6fdedd80",
      "metadata": {
        "id": "6fdedd80"
      },
      "outputs": [],
      "source": [
        "def HiddenMarkovModel(data_train, data_test, smoothingTechnique = None):\n",
        "    data_pred = []\n",
        "    trainer = hmm.HiddenMarkovModelTrainer()\n",
        "    tagger = trainer.train_supervised(data_train, estimator = smoothingTechnique)\n",
        "    for sentence in data_test:\n",
        "        data = tagger.tag(sentence.split())\n",
        "        data_pred.append(data)\n",
        "    return data_pred"
      ]
    },
    {
      "cell_type": "markdown",
      "id": "bf46eff0",
      "metadata": {
        "id": "bf46eff0"
      },
      "source": [
        "### Hàm lấy chuỗi nhãn"
      ]
    },
    {
      "cell_type": "code",
      "execution_count": null,
      "id": "da69e8d9",
      "metadata": {
        "id": "da69e8d9"
      },
      "outputs": [],
      "source": [
        "def words_tag(data,list_tag):\n",
        "    tag_sequence = []\n",
        "    for sentence_index in range(0, len(data)):\n",
        "        for word_index in range(0, len(data[sentence_index])):\n",
        "            for tag_index in range(0, len(list_tag)):\n",
        "                if list_tag[tag_index] in data[sentence_index][word_index]:\n",
        "                    tag_sequence.append(list_tag[tag_index])\n",
        "    return tag_sequence"
      ]
    },
    {
      "cell_type": "markdown",
      "id": "d02951e2",
      "metadata": {
        "id": "d02951e2"
      },
      "source": [
        "### Hàm đếm số nhãn gán đúng"
      ]
    },
    {
      "cell_type": "code",
      "execution_count": null,
      "id": "97068219",
      "metadata": {
        "id": "97068219"
      },
      "outputs": [],
      "source": [
        "def correctTagsCounter(tag_sequence_pred, tag_sequence_gold):\n",
        "    counter = 0;\n",
        "    for index in range(0, len(tag_sequence_pred)):\n",
        "        if tag_sequence_pred[index] == tag_sequence_gold[index]:\n",
        "            counter += 1\n",
        "    return counter"
      ]
    },
    {
      "cell_type": "markdown",
      "id": "dbcda546",
      "metadata": {
        "id": "dbcda546"
      },
      "source": [
        "# Tách từ"
      ]
    },
    {
      "cell_type": "markdown",
      "id": "b830f09b",
      "metadata": {
        "id": "b830f09b"
      },
      "source": [
        "## Tách từ thủ công"
      ]
    },
    {
      "cell_type": "markdown",
      "id": "9de8f7cc",
      "metadata": {
        "id": "9de8f7cc"
      },
      "source": [
        "### Kết quả"
      ]
    },
    {
      "cell_type": "code",
      "execution_count": null,
      "id": "36f433a5",
      "metadata": {
        "colab": {
          "base_uri": "https://localhost:8080/"
        },
        "id": "36f433a5",
        "outputId": "c6444f6d-c9f2-4033-ab69-bc8135deef3a"
      },
      "outputs": [
        {
          "output_type": "stream",
          "name": "stdout",
          "text": [
            "Số lượng từ tách thủ công:\n",
            "232\n"
          ]
        }
      ],
      "source": [
        "count_manual = count_words(data_tokenized_manual)\n",
        "print('Số lượng từ tách thủ công:')\n",
        "print(count_manual)"
      ]
    },
    {
      "cell_type": "code",
      "execution_count": null,
      "id": "dfee09a4",
      "metadata": {
        "colab": {
          "base_uri": "https://localhost:8080/"
        },
        "id": "dfee09a4",
        "outputId": "10427014-13e2-4764-ee8a-0731269154b9"
      },
      "outputs": [
        {
          "output_type": "stream",
          "name": "stdout",
          "text": [
            "Số lượng từ đơn:\n",
            "221 \n",
            "\n",
            "Số lượng từ ghép:\n",
            "11\n"
          ]
        }
      ],
      "source": [
        "manual_compounds = compounds(data_tokenized_manual)\n",
        "print(\"Số lượng từ đơn:\")\n",
        "print(count_manual - manual_compounds, \"\\n\")\n",
        "print(\"Số lượng từ ghép:\")\n",
        "print(manual_compounds)"
      ]
    },
    {
      "cell_type": "code",
      "execution_count": null,
      "id": "7f3881fd",
      "metadata": {
        "colab": {
          "base_uri": "https://localhost:8080/"
        },
        "id": "7f3881fd",
        "outputId": "f584a6db-5c3e-4735-8ed4-038803a54172"
      },
      "outputs": [
        {
          "output_type": "stream",
          "name": "stdout",
          "text": [
            "Thống kê từ ghép được tách thủ công:\n",
            "{'bài_tập': 10, 'bài_học': 1}\n"
          ]
        }
      ],
      "source": [
        "list_manual = list_words(data_tokenized_manual)\n",
        "_, array_manual_compounds = array_compounds(list_manual)\n",
        "print('Thống kê từ ghép được tách thủ công:')\n",
        "print(array_manual_compounds)"
      ]
    },
    {
      "cell_type": "markdown",
      "id": "18fe7333",
      "metadata": {
        "id": "18fe7333"
      },
      "source": [
        "## Tách từ dùng longest matching"
      ]
    },
    {
      "cell_type": "markdown",
      "id": "19eeb1cb",
      "metadata": {
        "id": "19eeb1cb"
      },
      "source": [
        "### Thuật toán"
      ]
    },
    {
      "cell_type": "code",
      "execution_count": null,
      "id": "4859635f",
      "metadata": {
        "id": "4859635f"
      },
      "outputs": [],
      "source": [
        "def tokenizer (text, dict, show=False):\n",
        "    input = text.split()\n",
        "    words = []\n",
        "    s = 0\n",
        "    while True:\n",
        "        e = len(input)\n",
        "        while e>s:\n",
        "            tmp_word = input[s:e]\n",
        "            is_word = \"\"\n",
        "            for item in tmp_word:\n",
        "                is_word += item + \" \"\n",
        "            is_word = is_word[:-1]\n",
        "            e -= 1\n",
        "            if is_word.lower() in dict:\n",
        "                words.append(is_word)\n",
        "                break\n",
        "        if e >= len(input):\n",
        "            break\n",
        "        s = e + 1\n",
        "    output=\"\"\n",
        "    for item in words:\n",
        "        output += item.replace(\" \", \"_\")\n",
        "        output += \" \"\n",
        "    output = output[:-1]\n",
        "    return output"
      ]
    },
    {
      "cell_type": "markdown",
      "id": "f4a2ef98",
      "metadata": {
        "id": "f4a2ef98"
      },
      "source": [
        "### Từ điển"
      ]
    },
    {
      "cell_type": "code",
      "execution_count": null,
      "id": "9477b1d9",
      "metadata": {
        "id": "9477b1d9"
      },
      "outputs": [],
      "source": [
        "if __name__ == \"__main__\":\n",
        "    dict = {\"đây\":0,\"là\":1,\"bài tập\":2,\"mới\":3,\"một\":4,\"trong\":5,\"những\":6,\"khó\":7,\n",
        "          \"nó\":8,\"đang\":9,\"làm\":10,\"toán\":11,\"này\":12,\"dễ\":13,\"cô\":14,\"ấy\":15,\n",
        "          \"tập\":16,\"bài\":17,\"chồng\":18,\"thật\":19,\"dày\":20,\"hắn\":21,\"đống\":22,\"xếp\":23,\"học\":24,\n",
        "          \"bài học\":25,\"cách\":26,\"dùng\":27,\"kéo\":28,\"cây\":29,\"sắc\":30,\"lắm\":31,\"bọn\":32,\n",
        "          \"trẻ\":33,\"nhau\":34,\"cái\":35,\"bàn\":36,\"vững\":37,\"mọi\":38,\"người\":39,\"với\":40,\"tôi\":41,\n",
        "          \"lấy\":42,\"cắt\":43,\"giấy\":44,\"anh\":45,\"quạt\":46,\"lớn\":47,\"đừng\":48,\"nhanh\":49,\"quá\":50,\n",
        "          \"đặt\":51,\"gần\":52,\"mạnh\":53,\"hư\":54,\"rất\":55,\"sẽ\":56,\"học sinh\":57,\"sinh học\":58 }\n",
        "    data_tokenized_LM=[]\n",
        "    for sentence in data:\n",
        "        output = tokenizer(sentence,dict)\n",
        "        data_tokenized_LM.append(output)"
      ]
    },
    {
      "cell_type": "markdown",
      "id": "0fe58829",
      "metadata": {
        "id": "0fe58829"
      },
      "source": [
        "### Kết quả"
      ]
    },
    {
      "cell_type": "code",
      "execution_count": null,
      "id": "79cfd5b7",
      "metadata": {
        "colab": {
          "base_uri": "https://localhost:8080/"
        },
        "id": "79cfd5b7",
        "outputId": "258e8fb3-9c18-41a2-f737-8da1f0625b9e"
      },
      "outputs": [
        {
          "output_type": "stream",
          "name": "stdout",
          "text": [
            "Số lượng từ tách được:\n",
            "232\n"
          ]
        }
      ],
      "source": [
        "count_LM = count_words(data_tokenized_LM)\n",
        "print('Số lượng từ tách được:')\n",
        "print(count_LM)"
      ]
    },
    {
      "cell_type": "code",
      "execution_count": null,
      "id": "94241a39",
      "metadata": {
        "colab": {
          "base_uri": "https://localhost:8080/"
        },
        "id": "94241a39",
        "outputId": "d1f456be-f3fa-4297-aca0-2c4559f523e8"
      },
      "outputs": [
        {
          "output_type": "stream",
          "name": "stdout",
          "text": [
            "Số lượng từ đơn:\n",
            "221 \n",
            "\n",
            "Số lượng từ ghép:\n",
            "11\n"
          ]
        }
      ],
      "source": [
        "LM_compounds = compounds(data_tokenized_LM)\n",
        "print(\"Số lượng từ đơn:\")\n",
        "print(count_LM - LM_compounds, \"\\n\")\n",
        "print(\"Số lượng từ ghép:\")\n",
        "print(LM_compounds)"
      ]
    },
    {
      "cell_type": "code",
      "execution_count": null,
      "id": "791a32c6",
      "metadata": {
        "colab": {
          "base_uri": "https://localhost:8080/"
        },
        "id": "791a32c6",
        "outputId": "fd5d3f2b-7d2e-497d-b189-d790ccae3ac0"
      },
      "outputs": [
        {
          "output_type": "stream",
          "name": "stdout",
          "text": [
            "Thống kê từ ghép:\n",
            "{'bài_tập': 10, 'bài_học': 1}\n"
          ]
        }
      ],
      "source": [
        "list_LM = list_words(data_tokenized_LM)\n",
        "_, array_LM_compounds = array_compounds(list_LM)\n",
        "print('Thống kê từ ghép:')\n",
        "print(array_LM_compounds)"
      ]
    },
    {
      "cell_type": "markdown",
      "id": "9e7435c9",
      "metadata": {
        "id": "9e7435c9"
      },
      "source": [
        "## Tách từ dùng thư viện pyvi"
      ]
    },
    {
      "cell_type": "code",
      "execution_count": null,
      "id": "f489adfe",
      "metadata": {
        "id": "f489adfe"
      },
      "outputs": [],
      "source": [
        "data_tokenized_pyvi=[]\n",
        "for sentence in data:\n",
        "    ouput = ViTokenizer.tokenize(sentence)\n",
        "    data_tokenized_pyvi.append(ouput)"
      ]
    },
    {
      "cell_type": "markdown",
      "id": "2299575c",
      "metadata": {
        "id": "2299575c"
      },
      "source": [
        "### Kết quả"
      ]
    },
    {
      "cell_type": "code",
      "execution_count": null,
      "id": "ca60f148",
      "metadata": {
        "colab": {
          "base_uri": "https://localhost:8080/"
        },
        "id": "ca60f148",
        "outputId": "0a8e3d19-b238-4042-80e2-bc7062ad8b6b"
      },
      "outputs": [
        {
          "output_type": "stream",
          "name": "stdout",
          "text": [
            "Số lượng từ tách được khi sử dụng thư viện Pyvi:\n",
            "230\n"
          ]
        }
      ],
      "source": [
        "count_pyvi = count_words(data_tokenized_pyvi)\n",
        "print('Số lượng từ tách được khi sử dụng thư viện Pyvi:')\n",
        "print(count_pyvi)"
      ]
    },
    {
      "cell_type": "code",
      "execution_count": null,
      "id": "88ad8788",
      "metadata": {
        "colab": {
          "base_uri": "https://localhost:8080/"
        },
        "id": "88ad8788",
        "outputId": "c4d22f4b-4dbd-428f-8c41-c05e8fd5ec24"
      },
      "outputs": [
        {
          "output_type": "stream",
          "name": "stdout",
          "text": [
            "Số lượng từ đơn:\n",
            "217 \n",
            "\n",
            "Số lượng từ ghép:\n",
            "13\n"
          ]
        }
      ],
      "source": [
        "pyvi_compounds = compounds(data_tokenized_pyvi)\n",
        "print(\"Số lượng từ đơn:\")\n",
        "print(count_pyvi - pyvi_compounds, \"\\n\")\n",
        "print(\"Số lượng từ ghép:\")\n",
        "print(pyvi_compounds)"
      ]
    },
    {
      "cell_type": "code",
      "execution_count": null,
      "id": "8cb7a71b",
      "metadata": {
        "colab": {
          "base_uri": "https://localhost:8080/"
        },
        "id": "8cb7a71b",
        "outputId": "c4361e8d-f5be-4039-cc5f-428a4dd4710d"
      },
      "outputs": [
        {
          "output_type": "stream",
          "name": "stdout",
          "text": [
            "Danh sách từ ghép khi tách từ sử dụng thư viện pyvi:\n",
            "{'bài_tập': 10, 'bài_học': 1, 'kéo_bàn': 1, 'quạt_cây': 1}\n"
          ]
        }
      ],
      "source": [
        "list_pyvi = list_words(data_tokenized_pyvi)\n",
        "_, array_pyvi_compounds = array_compounds(list_pyvi)\n",
        "print('Danh sách từ ghép khi tách từ sử dụng thư viện pyvi:')\n",
        "print(array_pyvi_compounds)"
      ]
    },
    {
      "cell_type": "markdown",
      "id": "5cfff8e5",
      "metadata": {
        "id": "5cfff8e5"
      },
      "source": [
        "## Tách từ dùng thư viện underthesea"
      ]
    },
    {
      "cell_type": "code",
      "execution_count": null,
      "id": "3fb8cc0f",
      "metadata": {
        "id": "3fb8cc0f"
      },
      "outputs": [],
      "source": [
        "data_tokenized_uts=[]\n",
        "for sentence in data:\n",
        "    data = word_tokenize(sentence, format=\"text\")\n",
        "    data_tokenized_uts.append(data)"
      ]
    },
    {
      "cell_type": "markdown",
      "id": "3b9e7a61",
      "metadata": {
        "id": "3b9e7a61"
      },
      "source": [
        "### Kết quả"
      ]
    },
    {
      "cell_type": "code",
      "execution_count": null,
      "id": "41424acc",
      "metadata": {
        "colab": {
          "base_uri": "https://localhost:8080/"
        },
        "id": "41424acc",
        "outputId": "0351c752-0b0b-4305-8ae7-e475eb22f0ca"
      },
      "outputs": [
        {
          "output_type": "stream",
          "name": "stdout",
          "text": [
            "Số lượng từ tách được khi sử dụng thư viện Underthesea:\n",
            "239\n"
          ]
        }
      ],
      "source": [
        "count_uts = count_words(data_tokenized_uts)\n",
        "print('Số lượng từ tách được khi sử dụng thư viện Underthesea:')\n",
        "print(count_uts)"
      ]
    },
    {
      "cell_type": "code",
      "execution_count": null,
      "id": "17961282",
      "metadata": {
        "colab": {
          "base_uri": "https://localhost:8080/"
        },
        "id": "17961282",
        "outputId": "ad4b3be0-bf95-4252-8b28-19d27610828c"
      },
      "outputs": [
        {
          "output_type": "stream",
          "name": "stdout",
          "text": [
            "Số lượng từ đơn:\n",
            "235 \n",
            "\n",
            "Số lượng từ ghép:\n",
            "4\n"
          ]
        }
      ],
      "source": [
        "uts_compounds = compounds(data_tokenized_uts)\n",
        "print(\"Số lượng từ đơn:\")\n",
        "print(count_uts - uts_compounds, \"\\n\")\n",
        "print(\"Số lượng từ ghép:\")\n",
        "print(uts_compounds)"
      ]
    },
    {
      "cell_type": "code",
      "execution_count": null,
      "id": "27b98b18",
      "metadata": {
        "colab": {
          "base_uri": "https://localhost:8080/"
        },
        "id": "27b98b18",
        "outputId": "1bcc92b4-e080-49cc-f2ab-15d9ed5094c0"
      },
      "outputs": [
        {
          "output_type": "stream",
          "name": "stdout",
          "text": [
            "Danh sách từ ghép khi tách bằng thư viện underthesea:\n",
            "{'bài_tập': 3, 'bài_học': 1}\n"
          ]
        }
      ],
      "source": [
        "list_uts = list_words(data_tokenized_uts)\n",
        "_, array_uts_compounds = array_compounds(list_uts)\n",
        "print('Danh sách từ ghép khi tách bằng thư viện underthesea:')\n",
        "print(array_uts_compounds)"
      ]
    },
    {
      "cell_type": "markdown",
      "id": "99aa084c",
      "metadata": {
        "id": "99aa084c"
      },
      "source": [
        "## Đánh giá tách từ"
      ]
    },
    {
      "cell_type": "code",
      "execution_count": null,
      "id": "b59da240",
      "metadata": {
        "colab": {
          "base_uri": "https://localhost:8080/",
          "height": 300
        },
        "id": "b59da240",
        "outputId": "7812cac1-e4b6-48ae-f46d-5b0873071262"
      },
      "outputs": [
        {
          "output_type": "execute_result",
          "data": {
            "text/html": [
              "\n",
              "  <div id=\"df-46dab1b8-bc9a-4dfc-9a17-768c0a8bcda6\">\n",
              "    <div class=\"colab-df-container\">\n",
              "      <div>\n",
              "<style scoped>\n",
              "    .dataframe tbody tr th:only-of-type {\n",
              "        vertical-align: middle;\n",
              "    }\n",
              "\n",
              "    .dataframe tbody tr th {\n",
              "        vertical-align: top;\n",
              "    }\n",
              "\n",
              "    .dataframe thead th {\n",
              "        text-align: right;\n",
              "    }\n",
              "</style>\n",
              "<table border=\"1\" class=\"dataframe\">\n",
              "  <thead>\n",
              "    <tr style=\"text-align: right;\">\n",
              "      <th></th>\n",
              "      <th>Longest Matching</th>\n",
              "      <th>Pyvi</th>\n",
              "      <th>Underthesea</th>\n",
              "    </tr>\n",
              "  </thead>\n",
              "  <tbody>\n",
              "    <tr>\n",
              "      <th>Accuracy</th>\n",
              "      <td>1</td>\n",
              "      <td>0.982759</td>\n",
              "      <td>0.969828</td>\n",
              "    </tr>\n",
              "    <tr>\n",
              "      <th>Precision</th>\n",
              "      <td>1</td>\n",
              "      <td>0.846154</td>\n",
              "      <td>1</td>\n",
              "    </tr>\n",
              "    <tr>\n",
              "      <th>Recall</th>\n",
              "      <td>1</td>\n",
              "      <td>1</td>\n",
              "      <td>0.363636</td>\n",
              "    </tr>\n",
              "    <tr>\n",
              "      <th>True Positive</th>\n",
              "      <td>11</td>\n",
              "      <td>11</td>\n",
              "      <td>4</td>\n",
              "    </tr>\n",
              "    <tr>\n",
              "      <th>False Positive</th>\n",
              "      <td>0</td>\n",
              "      <td>2</td>\n",
              "      <td>0</td>\n",
              "    </tr>\n",
              "    <tr>\n",
              "      <th>False Negative</th>\n",
              "      <td>0</td>\n",
              "      <td>0</td>\n",
              "      <td>7</td>\n",
              "    </tr>\n",
              "    <tr>\n",
              "      <th>F1-score</th>\n",
              "      <td>1</td>\n",
              "      <td>0.916667</td>\n",
              "      <td>0.533333</td>\n",
              "    </tr>\n",
              "    <tr>\n",
              "      <th>Tổng từ tách đúng</th>\n",
              "      <td>232</td>\n",
              "      <td>228</td>\n",
              "      <td>225</td>\n",
              "    </tr>\n",
              "  </tbody>\n",
              "</table>\n",
              "</div>\n",
              "      <button class=\"colab-df-convert\" onclick=\"convertToInteractive('df-46dab1b8-bc9a-4dfc-9a17-768c0a8bcda6')\"\n",
              "              title=\"Convert this dataframe to an interactive table.\"\n",
              "              style=\"display:none;\">\n",
              "        \n",
              "  <svg xmlns=\"http://www.w3.org/2000/svg\" height=\"24px\"viewBox=\"0 0 24 24\"\n",
              "       width=\"24px\">\n",
              "    <path d=\"M0 0h24v24H0V0z\" fill=\"none\"/>\n",
              "    <path d=\"M18.56 5.44l.94 2.06.94-2.06 2.06-.94-2.06-.94-.94-2.06-.94 2.06-2.06.94zm-11 1L8.5 8.5l.94-2.06 2.06-.94-2.06-.94L8.5 2.5l-.94 2.06-2.06.94zm10 10l.94 2.06.94-2.06 2.06-.94-2.06-.94-.94-2.06-.94 2.06-2.06.94z\"/><path d=\"M17.41 7.96l-1.37-1.37c-.4-.4-.92-.59-1.43-.59-.52 0-1.04.2-1.43.59L10.3 9.45l-7.72 7.72c-.78.78-.78 2.05 0 2.83L4 21.41c.39.39.9.59 1.41.59.51 0 1.02-.2 1.41-.59l7.78-7.78 2.81-2.81c.8-.78.8-2.07 0-2.86zM5.41 20L4 18.59l7.72-7.72 1.47 1.35L5.41 20z\"/>\n",
              "  </svg>\n",
              "      </button>\n",
              "      \n",
              "  <style>\n",
              "    .colab-df-container {\n",
              "      display:flex;\n",
              "      flex-wrap:wrap;\n",
              "      gap: 12px;\n",
              "    }\n",
              "\n",
              "    .colab-df-convert {\n",
              "      background-color: #E8F0FE;\n",
              "      border: none;\n",
              "      border-radius: 50%;\n",
              "      cursor: pointer;\n",
              "      display: none;\n",
              "      fill: #1967D2;\n",
              "      height: 32px;\n",
              "      padding: 0 0 0 0;\n",
              "      width: 32px;\n",
              "    }\n",
              "\n",
              "    .colab-df-convert:hover {\n",
              "      background-color: #E2EBFA;\n",
              "      box-shadow: 0px 1px 2px rgba(60, 64, 67, 0.3), 0px 1px 3px 1px rgba(60, 64, 67, 0.15);\n",
              "      fill: #174EA6;\n",
              "    }\n",
              "\n",
              "    [theme=dark] .colab-df-convert {\n",
              "      background-color: #3B4455;\n",
              "      fill: #D2E3FC;\n",
              "    }\n",
              "\n",
              "    [theme=dark] .colab-df-convert:hover {\n",
              "      background-color: #434B5C;\n",
              "      box-shadow: 0px 1px 3px 1px rgba(0, 0, 0, 0.15);\n",
              "      filter: drop-shadow(0px 1px 2px rgba(0, 0, 0, 0.3));\n",
              "      fill: #FFFFFF;\n",
              "    }\n",
              "  </style>\n",
              "\n",
              "      <script>\n",
              "        const buttonEl =\n",
              "          document.querySelector('#df-46dab1b8-bc9a-4dfc-9a17-768c0a8bcda6 button.colab-df-convert');\n",
              "        buttonEl.style.display =\n",
              "          google.colab.kernel.accessAllowed ? 'block' : 'none';\n",
              "\n",
              "        async function convertToInteractive(key) {\n",
              "          const element = document.querySelector('#df-46dab1b8-bc9a-4dfc-9a17-768c0a8bcda6');\n",
              "          const dataTable =\n",
              "            await google.colab.kernel.invokeFunction('convertToInteractive',\n",
              "                                                     [key], {});\n",
              "          if (!dataTable) return;\n",
              "\n",
              "          const docLinkHtml = 'Like what you see? Visit the ' +\n",
              "            '<a target=\"_blank\" href=https://colab.research.google.com/notebooks/data_table.ipynb>data table notebook</a>'\n",
              "            + ' to learn more about interactive tables.';\n",
              "          element.innerHTML = '';\n",
              "          dataTable['output_type'] = 'display_data';\n",
              "          await google.colab.output.renderOutput(dataTable, element);\n",
              "          const docLink = document.createElement('div');\n",
              "          docLink.innerHTML = docLinkHtml;\n",
              "          element.appendChild(docLink);\n",
              "        }\n",
              "      </script>\n",
              "    </div>\n",
              "  </div>\n",
              "  "
            ],
            "text/plain": [
              "                  Longest Matching      Pyvi Underthesea\n",
              "Accuracy                         1  0.982759    0.969828\n",
              "Precision                        1  0.846154           1\n",
              "Recall                           1         1    0.363636\n",
              "True Positive                   11        11           4\n",
              "False Positive                   0         2           0\n",
              "False Negative                   0         0           7\n",
              "F1-score                         1  0.916667    0.533333\n",
              "Tổng từ tách đúng              232       228         225"
            ]
          },
          "metadata": {},
          "execution_count": 345
        }
      ],
      "source": [
        "longest_matching_evaluation = tokenize_evaluation(data_tokenized_LM, data_tokenized_manual)\n",
        "pyvi_evaluation = tokenize_evaluation(data_tokenized_pyvi, data_tokenized_manual)\n",
        "uts_evaluation = tokenize_evaluation(data_tokenized_uts, data_tokenized_manual)\n",
        "pd.DataFrame(\n",
        "    [longest_matching_evaluation, pyvi_evaluation, uts_evaluation], \n",
        "    index = ['Longest Matching', 'Pyvi', 'Underthesea']\n",
        ").astype(object).T"
      ]
    },
    {
      "cell_type": "markdown",
      "id": "3d2fb1a6",
      "metadata": {
        "id": "3d2fb1a6"
      },
      "source": [
        "# Gán nhãn"
      ]
    },
    {
      "cell_type": "markdown",
      "id": "6866e5cb",
      "metadata": {
        "id": "6866e5cb"
      },
      "source": [
        "## Bô dữ liệu huấn luyện"
      ]
    },
    {
      "cell_type": "code",
      "execution_count": null,
      "id": "0070b1cf",
      "metadata": {
        "id": "0070b1cf"
      },
      "outputs": [],
      "source": [
        "data_train = [[('đây', 'P'), ('là', 'V'), ('bài_tập', 'N'), ('mới', 'A')],\n",
        "             [('đây', 'P'), ('là', 'V'), ('một', 'A'), ('trong', 'N'), ('những', 'D'), ('bài_tập', 'N'), ('khó', 'A')],\n",
        "             [('nó', 'P'), ('đang', 'R'), ('làm', 'V'), ('bài_tập', 'N')],\n",
        "             [('bài_tập', 'N'), ('toán', 'N'), ('này', 'P'), ('dễ', 'A')],\n",
        "             [('cô', 'N'), ('ấy', 'P'), ('đang', 'R'), ('tập', 'V'), ('bài', 'N'), ('này', 'P')],\n",
        "             [('chồng', 'N'), ('tập', 'N'), ('thật', 'R'), ('dày', 'A')],\n",
        "             [('hắn', 'P'), ('đang', 'R'), ('chồng', 'V'), ('đống', 'N'), ('bài_tập', 'N')],\n",
        "             [('chồng', 'N'), ('cô', 'N'), ('ấy', 'P'), ('đang', 'R'), ('xếp', 'V'), ('tập', 'N')],\n",
        "             [('bài_tập', 'N'), ('xếp', 'V'), ('tập', 'N'), ('khó', 'A')],\n",
        "             [('nó', 'P'), ('đang', 'R'), ('học', 'V'), ('bài', 'N'), ('này', 'P')],\n",
        "             [('một', 'A'), ('bài_học', 'N'), ('cách', 'N'), ('dùng', 'V'), ('kéo', 'N')],\n",
        "             [('cây', 'N'), ('kéo', 'N'), ('này', 'P'), ('sắc', 'A'), ('lắm', 'R')],\n",
        "             [('bọn', 'N'), ('trẻ', 'N'), ('đang', 'R'), ('kéo', 'V'), ('nhau', 'N')],\n",
        "             [('cái', 'N'), ('bàn', 'N'), ('này', 'P'), ('vững', 'A'), ('lắm', 'R')],\n",
        "             [('mọi', 'D'), ('người', 'N'), ('đang', 'R'), ('bàn', 'V'), ('với', 'C'), ('nhau', 'N')],\n",
        "             [('cái', 'N'), ('bàn', 'N'), ('với', 'C'), ('cái', 'N'), ('kéo', 'N')] ,\n",
        "             [('tôi', 'P'), ('đang', 'R'), ('với', 'V'), ('lấy', 'V'), ('cái', 'N'), ('kéo', 'N')],\n",
        "             [('kéo', 'N'), ('dùng', 'V'), ('cắt', 'V'), ('giấy', 'N')],\n",
        "             [('bọn', 'N'), ('trẻ', 'N'), ('đang', 'R'), ('bàn', 'V'), ('cách', 'N'), ('dùng', 'V'), ('kéo', 'N')],\n",
        "             [('nó', 'P'), ('đang', 'R'), ('kéo', 'V'), ('cái', 'N'), ('bàn', 'N')],\n",
        "             [('đây', 'P'), ('là', 'V'), ('bài_tập', 'N'), ('cách', 'N'), ('dùng', 'V'), ('kéo', 'N')],\n",
        "             [('anh', 'N'), ('ấy', 'P'), ('đang', 'R'), ('tập', 'V'), ('cách', 'N'), ('kéo', 'V'), ('bàn', 'N')],\n",
        "             [('một', 'A'), ('cây', 'N'), ('quạt', 'N'), ('lớn', 'A')],\n",
        "             [('đừng', 'V'), ('quạt', 'V'), ('nhanh', 'A'), ('quá', 'R')],\n",
        "             [('nó', 'P'), ('đang', 'R'), ('tập', 'V'), ('quạt', 'V')],\n",
        "             [('cô', 'N'), ('ấy', 'P'), ('tập', 'V'), ('cách', 'N'), ('quạt', 'V')],\n",
        "             [('cái', 'N'), ('quạt', 'N'), ('đặt', 'V'), ('gần', 'A'), ('bàn', 'N')],\n",
        "             [('nó', 'P'), ('với', 'V'), ('lấy', 'V'), ('cái', 'N'), ('quạt', 'N')],\n",
        "             [('cây', 'N'), ('quạt', 'N'), ('với', 'C'), ('cái', 'N'), ('bàn', 'N')],\n",
        "             [('kéo', 'V'), ('cái', 'N'), ('bàn', 'N'), ('gần', 'A'), ('cái', 'N'), ('quạt', 'N')],\n",
        "             [('dùng', 'V'), ('kéo', 'N'), ('cắt', 'V'), ('quạt', 'N')],\n",
        "             [('quạt', 'V'), ('mạnh', 'A'), ('dễ', 'A'), ('hư', 'A'), ('quạt', 'N')]]"
      ]
    },
    {
      "cell_type": "markdown",
      "id": "4ee017f3",
      "metadata": {
        "id": "4ee017f3"
      },
      "source": [
        "## Bộ gold"
      ]
    },
    {
      "cell_type": "code",
      "execution_count": null,
      "id": "7dca6958",
      "metadata": {
        "id": "7dca6958"
      },
      "outputs": [],
      "source": [
        "data_gold = [[('bài_tập', 'N'), ('cắt', 'V'), ('quạt', 'N'), ('với', 'C'), ('kéo', 'N')], \n",
        "             [('dùng', 'V'), ('kéo', 'N'), ('cắt', 'V'), ('tập', 'N'), ('gần', 'A'), ('bàn', 'N')], \n",
        "             [('kéo', 'V'), ('cái', 'N'), ('kéo', 'N'), ('gần', 'A'), ('bàn', 'N'), ('với', 'C'), ('quạt', 'N')], \n",
        "             [('nó', 'P'), ('với', 'V'), ('cây', 'N'), ('kéo', 'N'), ('gần', 'A'), ('tập', 'N'), ('bài_tập', 'N'), ('gần', 'A'), ('bàn', 'N'), ('với', 'C'), ('quạt', 'N')], \n",
        "             [('anh', 'N'), ('ấy', 'P'), ('đang', 'R'), ('bàn', 'V'), ('với', 'C'), ('cô', 'N'), ('ấy', 'P'), ('cách', 'N'), ('kéo', 'V'), ('cái', 'N'), ('bàn', 'N')], \n",
        "             [('đừng', 'V'), ('dùng', 'V'), ('quạt', 'N'), ('với', 'C'), ('kéo', 'N')], \n",
        "             [('tập', 'V'), ('cách', 'N'), ('học', 'V'), ('dùng', 'V'), ('kéo', 'N'), ('với', 'C'), ('quạt', 'N')], \n",
        "             [('bài_tập', 'N'), ('kéo', 'V'), ('cái', 'N'), ('bàn', 'N'), ('gần', 'A'), ('cô', 'N'), ('ấy', 'P'), ('với', 'C'), ('anh', 'N'), ('ấy', 'P'), ('quạt', 'V'), ('cây', 'N'), ('kéo', 'N'), ('gần', 'A'), ('bàn', 'N')]]"
      ]
    },
    {
      "cell_type": "markdown",
      "id": "2cbf7c7f",
      "metadata": {
        "id": "2cbf7c7f"
      },
      "source": [
        "## Import bộ test sau khi được tách từ"
      ]
    },
    {
      "cell_type": "code",
      "execution_count": null,
      "id": "b8b42425",
      "metadata": {
        "id": "b8b42425"
      },
      "outputs": [],
      "source": [
        "data_test = data_tokenized_LM[32:40]"
      ]
    },
    {
      "cell_type": "code",
      "execution_count": null,
      "id": "cdd04509",
      "metadata": {
        "colab": {
          "base_uri": "https://localhost:8080/"
        },
        "id": "cdd04509",
        "outputId": "d204922c-774e-4dee-c85b-4f8fca3859c7"
      },
      "outputs": [
        {
          "output_type": "execute_result",
          "data": {
            "text/plain": [
              "['bài_tập cắt quạt với kéo',\n",
              " 'dùng kéo cắt tập gần bàn',\n",
              " 'kéo cái kéo gần bàn với quạt',\n",
              " 'nó với cây kéo gần tập bài_tập gần bàn với quạt',\n",
              " 'anh ấy đang bàn với cô ấy cách kéo cái bàn',\n",
              " 'đừng dùng quạt với kéo',\n",
              " 'tập cách học dùng kéo với quạt',\n",
              " 'bài_tập kéo cái bàn gần cô ấy với anh ấy quạt cây kéo gần bàn']"
            ]
          },
          "metadata": {},
          "execution_count": 349
        }
      ],
      "source": [
        "data_test"
      ]
    },
    {
      "cell_type": "code",
      "execution_count": null,
      "id": "6ccb8548",
      "metadata": {
        "id": "6ccb8548"
      },
      "outputs": [],
      "source": [
        "# Các nhãn được sử dụng\n",
        "list_tag = ['A','C','E','I','L','M','N','P','R','S','T','V','X','F']\n",
        "# Chuyển chuỗi nhãn cho bộ gold\n",
        "tag_sequence_gold = words_tag(data_gold, list_tag)"
      ]
    },
    {
      "cell_type": "markdown",
      "id": "3a7d8dc1",
      "metadata": {
        "id": "3a7d8dc1"
      },
      "source": [
        "## HMM khi không dùng smoothing"
      ]
    },
    {
      "cell_type": "code",
      "execution_count": null,
      "id": "454d29ac",
      "metadata": {
        "colab": {
          "base_uri": "https://localhost:8080/"
        },
        "id": "454d29ac",
        "outputId": "0ffa2e97-1ad4-4966-c965-5084c65a9f69"
      },
      "outputs": [
        {
          "output_type": "stream",
          "name": "stdout",
          "text": [
            "Số nhãn đúng là: 60 / 67 \n",
            "\n",
            "Tần số xuất hiện của các nhãn khi không sử dụng smoothing:\n",
            "{'N': 33, 'V': 12, 'C': 6, 'A': 6, 'P': 9, 'R': 1} \n",
            "\n",
            "Kết quả đánh giá của mô hình HMM khi không sử dụng smoothing:\n",
            "\n",
            "              precision    recall  f1-score   support\n",
            "\n",
            "           A       1.00      1.00      1.00         6\n",
            "           C       1.00      0.86      0.92         7\n",
            "           N       0.94      0.91      0.93        34\n",
            "           P       0.56      1.00      0.71         5\n",
            "           R       1.00      1.00      1.00         1\n",
            "           V       0.92      0.79      0.85        14\n",
            "\n",
            "    accuracy                           0.90        67\n",
            "   macro avg       0.90      0.93      0.90        67\n",
            "weighted avg       0.92      0.90      0.90        67\n",
            "\n"
          ]
        }
      ],
      "source": [
        "data_pred_noSmoothing = HiddenMarkovModel(data_train, data_test)\n",
        "tag_sequence_noSmoothing = words_tag(data_pred_noSmoothing, list_tag)\n",
        "\n",
        "tags_noSmoothing = correctTagsCounter(tag_sequence_noSmoothing, tag_sequence_gold)\n",
        "print(\"Số nhãn đúng là:\", tags_noSmoothing, \"/\", len(tag_sequence_gold), \"\\n\")\n",
        "\n",
        "tagsList_noSmoothing = {i:tag_sequence_noSmoothing.count(i) for i in tag_sequence_noSmoothing}\n",
        "print(\"Tần số xuất hiện của các nhãn khi không sử dụng smoothing:\")\n",
        "print(tagsList_noSmoothing, \"\\n\")\n",
        "\n",
        "print('Kết quả đánh giá của mô hình HMM khi không sử dụng smoothing:\\n')\n",
        "print(classification_report(tag_sequence_gold,tag_sequence_noSmoothing))"
      ]
    },
    {
      "cell_type": "markdown",
      "id": "895c95ba",
      "metadata": {
        "id": "895c95ba"
      },
      "source": [
        "## HMM khi dùng Laplace smoothing"
      ]
    },
    {
      "cell_type": "code",
      "execution_count": null,
      "id": "7e0feef9",
      "metadata": {
        "colab": {
          "base_uri": "https://localhost:8080/"
        },
        "id": "7e0feef9",
        "outputId": "1a50d115-6c72-4b24-feb1-70d481a18114"
      },
      "outputs": [
        {
          "output_type": "stream",
          "name": "stdout",
          "text": [
            "Số nhãn đúng là: 52 / 67 \n",
            "\n",
            "Tần số xuất hiện của các nhãn khi sử dụng Laplace smoothing:\n",
            "{'N': 35, 'V': 17, 'A': 5, 'P': 6, 'R': 4} \n",
            "\n",
            "Kết quả đánh giá của mô hình HMM khi sử dụng laplace smoothing:\n",
            "\n",
            "              precision    recall  f1-score   support\n",
            "\n",
            "           A       1.00      0.83      0.91         6\n",
            "           C       0.00      0.00      0.00         7\n",
            "           N       0.91      0.94      0.93        34\n",
            "           P       0.83      1.00      0.91         5\n",
            "           R       0.25      1.00      0.40         1\n",
            "           V       0.53      0.64      0.58        14\n",
            "\n",
            "    accuracy                           0.78        67\n",
            "   macro avg       0.59      0.74      0.62        67\n",
            "weighted avg       0.73      0.78      0.75        67\n",
            "\n"
          ]
        }
      ],
      "source": [
        "data_pred_laplaceSmoothing = HiddenMarkovModel(data_train, data_test, LaplaceProbDist)\n",
        "tag_sequence_laplaceSmoothing = words_tag(data_pred_laplaceSmoothing, list_tag)\n",
        "\n",
        "\n",
        "tags_laplaceSmoothing = correctTagsCounter(tag_sequence_laplaceSmoothing, tag_sequence_gold)\n",
        "print(\"Số nhãn đúng là:\", tags_laplaceSmoothing, \"/\", len(tag_sequence_gold), \"\\n\")\n",
        "\n",
        "tagsList_laplaceSmoothing = {i:tag_sequence_laplaceSmoothing.count(i) for i in tag_sequence_laplaceSmoothing}\n",
        "print(\"Tần số xuất hiện của các nhãn khi sử dụng Laplace smoothing:\")\n",
        "print(tagsList_laplaceSmoothing, \"\\n\")\n",
        "\n",
        "print('Kết quả đánh giá của mô hình HMM khi sử dụng laplace smoothing:\\n')\n",
        "print(classification_report(tag_sequence_gold,tag_sequence_laplaceSmoothing))"
      ]
    }
  ],
  "metadata": {
    "kernelspec": {
      "display_name": "Python 3 (ipykernel)",
      "language": "python",
      "name": "python3"
    },
    "language_info": {
      "codemirror_mode": {
        "name": "ipython",
        "version": 3
      },
      "file_extension": ".py",
      "mimetype": "text/x-python",
      "name": "python",
      "nbconvert_exporter": "python",
      "pygments_lexer": "ipython3",
      "version": "3.8.10"
    },
    "colab": {
      "provenance": [],
      "collapsed_sections": [
        "76726759",
        "fbbd66d5",
        "ac8080d8",
        "bf46eff0",
        "d02951e2",
        "9de8f7cc",
        "19eeb1cb",
        "f4a2ef98",
        "0fe58829",
        "2299575c",
        "3b9e7a61"
      ]
    }
  },
  "nbformat": 4,
  "nbformat_minor": 5
}